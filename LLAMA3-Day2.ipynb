{
 "cells": [
  {
   "cell_type": "code",
   "execution_count": 1,
   "id": "f762ae1a",
   "metadata": {},
   "outputs": [],
   "source": [
    "import os\n",
    "import json\n",
    "from dotenv import load_dotenv\n",
    "import gradio as gr\n",
    "import requests\n",
    "from bs4 import BeautifulSoup\n",
    "from IPython.display import display, clear_output, Markdown\n",
    "import ollama\n",
    "import time\n",
    "import pyttsx3\n",
    "from deep_translator import GoogleTranslator\n",
    "from gtts import gTTS\n",
    "\n",
    "\n"
   ]
  },
  {
   "cell_type": "code",
   "execution_count": 2,
   "id": "cb200af6",
   "metadata": {},
   "outputs": [],
   "source": [
    "MODEL = \"llama3\""
   ]
  },
  {
   "cell_type": "code",
   "execution_count": 3,
   "id": "e9a3d3fa",
   "metadata": {},
   "outputs": [],
   "source": [
    "system_message = \"You are a helpful assistant for telling information about Data Visualization,Machine Learning ,\"\n",
    "system_message += \"Artificial Intelligence, Deep Learning and Reinforcement Learning. \"\n",
    "system_message += \"Give short, courteous answers, no more than 1 sentence. \"\n",
    "system_message += \"Always be accurate. If you don't know the answer, say so.\"\n",
    "# system_message += \"Translate the message into Hindi Language.\"\n",
    "# system_message += \"Only show the overall message in Translated Language namely 'Hindi'.\""
   ]
  },
  {
   "cell_type": "code",
   "execution_count": 4,
   "id": "241c2ac0",
   "metadata": {},
   "outputs": [
    {
     "name": "stdout",
     "output_type": "stream",
     "text": [
      "Running on local URL:  http://127.0.0.1:7860\n",
      "\n",
      "To create a public link, set `share=True` in `launch()`.\n"
     ]
    },
    {
     "data": {
      "text/html": [
       "<div><iframe src=\"http://127.0.0.1:7860/\" width=\"100%\" height=\"500\" allow=\"autoplay; camera; microphone; clipboard-read; clipboard-write;\" frameborder=\"0\" allowfullscreen></iframe></div>"
      ],
      "text/plain": [
       "<IPython.core.display.HTML object>"
      ]
     },
     "metadata": {},
     "output_type": "display_data"
    },
    {
     "data": {
      "text/plain": []
     },
     "execution_count": 4,
     "metadata": {},
     "output_type": "execute_result"
    }
   ],
   "source": [
    "\n",
    "def chat(message, history):\n",
    "    # Ensure history is formatted correctly as a list of dicts\n",
    "    formatted_history = []\n",
    "    for entry in history:\n",
    "        if isinstance(entry, list) and len(entry) == 2:\n",
    "            user_msg, assistant_msg = entry\n",
    "            formatted_history.append({\"role\": \"user\", \"content\": user_msg})\n",
    "            if assistant_msg:  # Ignore None responses\n",
    "                formatted_history.append({\"role\": \"assistant\", \"content\": assistant_msg})\n",
    "\n",
    "    messages = [{\"role\": \"system\", \"content\": system_message}] + formatted_history + [{\"role\": \"user\", \"content\": message}]\n",
    "\n",
    "#     print(\"History is:\")\n",
    "#     print(formatted_history)  # Now formatted properly\n",
    "#     print(\"And messages is:\")\n",
    "#     print(messages)\n",
    "    \n",
    "    response = \"\"\n",
    "    stream = ollama.chat(model=MODEL, messages=messages, stream=True)\n",
    "    t = ollama.chat(model=MODEL, messages=messages)\n",
    "    \n",
    "    for chunk in stream:\n",
    "        response += chunk[\"message\"][\"content\"] or ''\n",
    "        yield response\n",
    "    # Initialize translator and TTS engine\n",
    "#     print(f\"t = {t}\")\n",
    "    translated_text = GoogleTranslator(source=\"auto\", target=\"hi\").translate(t.message.content)\n",
    "#     print(f\"t = {translated_text}\")\n",
    "    # Convert text to speech\n",
    "    tts = gTTS(text=translated_text, lang=\"hi\")\n",
    "\n",
    "    # Save and play the audio\n",
    "    tts.save(\"output.mp3\")\n",
    "    os.system(\"start output.mp3\")  # For Windows\n",
    "    \n",
    "gr.ChatInterface(fn=chat).launch()\n"
   ]
  },
  {
   "cell_type": "code",
   "execution_count": 5,
   "id": "eac69e3f",
   "metadata": {},
   "outputs": [],
   "source": [
    "# !pip uninstall ollama\n",
    "#!pip install deep-translator\n"
   ]
  },
  {
   "cell_type": "code",
   "execution_count": 6,
   "id": "60336423",
   "metadata": {},
   "outputs": [],
   "source": [
    "# !pip uninstall ollama"
   ]
  },
  {
   "cell_type": "code",
   "execution_count": 7,
   "id": "332fee76",
   "metadata": {},
   "outputs": [
    {
     "name": "stdout",
     "output_type": "stream",
     "text": [
      "t = model='llama3' created_at='2025-03-20T12:57:32.9485182Z' done=True done_reason='stop' total_duration=5137227600 load_duration=18727200 prompt_eval_count=70 prompt_eval_duration=341930500 eval_count=39 eval_duration=4775441100 message=Message(role='assistant', content=\"Hello! I'm here to help with any questions or information you need on Data Visualization, Machine Learning, Artificial Intelligence, Deep Learning, and Reinforcement Learning. What's on your mind?\", images=None, tool_calls=None)\n",
      "t = नमस्ते! मैं यहां डेटा विज़ुअलाइज़ेशन, मशीन लर्निंग, आर्टिफिशियल इंटेलिजेंस, डीप लर्निंग और सुदृढीकरण लर्निंग पर आपके द्वारा आवश्यक किसी भी प्रश्न या जानकारी के साथ मदद करने के लिए हूं। आपके दिमाग में क्या है?\n",
      "t = model='llama3' created_at='2025-03-20T12:59:36.6568007Z' done=True done_reason='stop' total_duration=5046747500 load_duration=15732000 prompt_eval_count=119 prompt_eval_duration=911575400 eval_count=37 eval_duration=4118244800 message=Message(role='assistant', content='Reinforcement Learning (RL) is a subfield of Machine Learning that focuses on training agents to make decisions in complex, uncertain environments by interacting with them through rewards or penalties.', images=None, tool_calls=None)\n",
      "t = सुदृढीकरण लर्निंग (आरएल) मशीन लर्निंग का एक उप -क्षेत्र है जो पुरस्कार या दंड के माध्यम से उनके साथ बातचीत करके जटिल, अनिश्चित वातावरण में निर्णय लेने के लिए प्रशिक्षण एजेंटों पर ध्यान केंद्रित करता है।\n"
     ]
    }
   ],
   "source": [
    "# !pip install gtts"
   ]
  }
 ],
 "metadata": {
  "kernelspec": {
   "display_name": "Python 3 (ipykernel)",
   "language": "python",
   "name": "python3"
  },
  "language_info": {
   "codemirror_mode": {
    "name": "ipython",
    "version": 3
   },
   "file_extension": ".py",
   "mimetype": "text/x-python",
   "name": "python",
   "nbconvert_exporter": "python",
   "pygments_lexer": "ipython3",
   "version": "3.8.18"
  }
 },
 "nbformat": 4,
 "nbformat_minor": 5
}
