{
 "cells": [
  {
   "cell_type": "code",
   "execution_count": 17,
   "id": "a1db0947",
   "metadata": {},
   "outputs": [],
   "source": [
    "import requests\n",
    "from bs4 import BeautifulSoup\n",
    "from IPython.display import display, clear_output, Markdown\n",
    "import ollama\n",
    "import time\n"
   ]
  },
  {
   "cell_type": "code",
   "execution_count": 18,
   "id": "d0c0c9d7",
   "metadata": {},
   "outputs": [],
   "source": [
    "MODEL = \"llama3\""
   ]
  },
  {
   "cell_type": "code",
   "execution_count": 19,
   "id": "146482df",
   "metadata": {},
   "outputs": [],
   "source": [
    "# A class to represent a Webpage\n",
    "\n",
    "class Website:\n",
    "    \"\"\"\n",
    "    A utility class to represent a Website that we have scraped\n",
    "    \"\"\"\n",
    "    url: str\n",
    "    title: str\n",
    "    text: str\n",
    "\n",
    "    def __init__(self, url):\n",
    "        \"\"\"\n",
    "        Create this Website object from the given url using the BeautifulSoup library\n",
    "        \"\"\"\n",
    "        self.url = url\n",
    "        response = requests.get(url)\n",
    "        soup = BeautifulSoup(response.content, 'html.parser')\n",
    "        self.title = soup.title.string if soup.title else \"No title found\"\n",
    "        for irrelevant in soup.body([\"script\", \"style\", \"img\", \"input\"]):\n",
    "            irrelevant.decompose()\n",
    "        self.text = soup.body.get_text(separator=\"\\n\", strip=True)\n"
   ]
  },
  {
   "cell_type": "code",
   "execution_count": 20,
   "id": "e1f641a9",
   "metadata": {},
   "outputs": [],
   "source": [
    "# Let's try one out\n",
    "\n",
    "ed = Website(\"https://edwarddonner.com\")\n"
   ]
  },
  {
   "cell_type": "code",
   "execution_count": 21,
   "id": "a0043339",
   "metadata": {},
   "outputs": [],
   "source": [
    "# Define our system prompt - you can experiment with this later, changing the last sentence to 'Respond in markdown in Spanish.\"\n",
    "\n",
    "system_prompt = \"You are an assistant that analyzes the contents of a website \\\n",
    "and provides a short summary, ignoring text that might be navigation related. \\\n",
    "Respond in markdown.\""
   ]
  },
  {
   "cell_type": "code",
   "execution_count": 22,
   "id": "2fe7597d",
   "metadata": {},
   "outputs": [],
   "source": [
    "# A function that writes a User Prompt that asks for summaries of websites:\n",
    "\n",
    "def user_prompt_for(website):\n",
    "    user_prompt = f\"You are looking at a website titled {website.title}\"\n",
    "    user_prompt += \"The contents of this website is as follows; \\\n",
    "please provide a short summary of this website in markdown. \\\n",
    "If it includes news or announcements, then summarize these too.\\n\\n\"\n",
    "    user_prompt += website.text\n",
    "    return user_prompt"
   ]
  },
  {
   "cell_type": "code",
   "execution_count": 23,
   "id": "c72c98e9",
   "metadata": {},
   "outputs": [],
   "source": [
    "# See how this function creates exactly the format above\n",
    "\n",
    "def messages_for(website):\n",
    "    return [\n",
    "        {\"role\": \"system\", \"content\": system_prompt},\n",
    "        {\"role\": \"user\", \"content\": user_prompt_for(website)}\n",
    "    ]"
   ]
  },
  {
   "cell_type": "code",
   "execution_count": 25,
   "id": "a68296ea",
   "metadata": {},
   "outputs": [],
   "source": [
    "def summarize(url):\n",
    "    website = Website(url)\n",
    "    messages = messages_for(website)\n",
    "    stream = ollama.chat(model=MODEL, messages=messages, stream=True)\n",
    "\n",
    "    markdown_output = \"\"\n",
    "    \n",
    "    for chunk in stream:\n",
    "        content = chunk['message']['content']\n",
    "        markdown_output += content\n",
    "        clear_output(wait=True)  # Clear previous output\n",
    "        display(Markdown(markdown_output))  # Render Markdown\n",
    "        time.sleep(0.01)  # Control speed of updates\n"
   ]
  },
  {
   "cell_type": "code",
   "execution_count": 27,
   "id": "12e72082",
   "metadata": {},
   "outputs": [
    {
     "data": {
      "text/markdown": [
       "I'm looking at the V.E.R.O.N.I.C.A website, and it appears to be a personal website of a software developer and data analyst named Prakhar. The website has several sections, including:\n",
       "\n",
       "1. My Projects: This section showcases some of Prakhar's projects, including Image Duplicate Prediction, General Duties, and more.\n",
       "2. Offered Services: This section lists the services Prakhar offers, including Python programming, backend development, data analysis, and more.\n",
       "3. My Skills: This section highlights Prakhar's skills in various areas, such as machine learning, deep learning, natural language processing, and computer vision.\n",
       "4. Education: This section briefly mentions Prakhar's educational background, including his college projects and training in algorithms like SGD, LR, LAR, k-means clustering, MAP, ML, RBF-NNs, MLPs, ELMs, SAEs, and CNNs.\n",
       "5. Contact Me: This section provides various ways to get in touch with Prakhar, including email, phone number, Twitter, Quora, Facebook, and GitHub.\n",
       "6. Resume: This section links to Prakhar's resume, which is not available on this website.\n",
       "7. Hire Me: This section is a call-to-action for potential employers or clients who are interested in hiring Prakhar.\n",
       "\n",
       "The website also includes some personal touches, such as a \"My Thoughts\" section where Prakhar shares his opinions and experiences, and a \"Future Works\" section that outlines his plans and goals for the future. Overall, V.E.R.O.N.I.C.A is a professional website that showcases Prakhar's skills, projects, and services as a software developer and data analyst."
      ],
      "text/plain": [
       "<IPython.core.display.Markdown object>"
      ]
     },
     "metadata": {},
     "output_type": "display_data"
    }
   ],
   "source": [
    "url = \"https://prakhr.github.io/Portfolio-Site/\"\n",
    "summarize(url)"
   ]
  },
  {
   "cell_type": "code",
   "execution_count": null,
   "id": "ed2ab647",
   "metadata": {},
   "outputs": [],
   "source": []
  }
 ],
 "metadata": {
  "kernelspec": {
   "display_name": "Python 3 (ipykernel)",
   "language": "python",
   "name": "python3"
  },
  "language_info": {
   "codemirror_mode": {
    "name": "ipython",
    "version": 3
   },
   "file_extension": ".py",
   "mimetype": "text/x-python",
   "name": "python",
   "nbconvert_exporter": "python",
   "pygments_lexer": "ipython3",
   "version": "3.8.18"
  }
 },
 "nbformat": 4,
 "nbformat_minor": 5
}
